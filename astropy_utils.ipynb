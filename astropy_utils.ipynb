{
 "cells": [
  {
   "cell_type": "markdown",
   "id": "c94ff7d0",
   "metadata": {},
   "source": [
    "\n",
    "# Using Astropy\n",
    "\n",
    "## Coordinate conversion\n",
    "\n",
    "Astropy provides useful tools to convert between the coordinate systems. \n",
    "\n",
    "The International Celestial Reference System (ICRS) is the current standard celestial reference system adopted by the International Astronomical Union (IAU).\n",
    "Its origin is at the barycenter of the Solar System, with axes that are intended to \"show no global rotation with respect to a set of distant extragalactic objects\". "
   ]
  },
  {
   "cell_type": "code",
   "execution_count": null,
   "id": "f5abc44e",
   "metadata": {},
   "outputs": [],
   "source": [
    "import astropy \n",
    "import pylab as pl \n",
    "from astropy import units as u\n",
    "from astropy import constants as const \n",
    "from astropy.coordinates import SkyCoord"
   ]
  },
  {
   "cell_type": "code",
   "execution_count": null,
   "id": "b0a27055",
   "metadata": {},
   "outputs": [],
   "source": [
    "\n",
    "coord1 = SkyCoord(ra=10.625*u.degree, dec=41.2*u.degree, frame='icrs')\n"
   ]
  },
  {
   "cell_type": "markdown",
   "id": "be1646de",
   "metadata": {},
   "source": [
    "sometimes however RA is referred in _hourangle_ units and Declination in degrees, minutes and seconds "
   ]
  },
  {
   "cell_type": "code",
   "execution_count": null,
   "id": "72a70c9f",
   "metadata": {},
   "outputs": [],
   "source": [
    "coord2 = SkyCoord('00h42m30s', '+41d12m00s', frame='icrs')"
   ]
  },
  {
   "cell_type": "markdown",
   "id": "3fac1993",
   "metadata": {},
   "source": [
    "we can then use the conversion tool to switch between one unit frame and the other , as well as different coordinate system"
   ]
  },
  {
   "cell_type": "code",
   "execution_count": null,
   "id": "ccb98dae",
   "metadata": {},
   "outputs": [],
   "source": [
    "print(coord1.ra.to((u.hourangle)),\n",
    "coord2.dec.to(u.deg) ,\n",
    "coord1.galactic,   )"
   ]
  },
  {
   "cell_type": "markdown",
   "id": "b28755a5",
   "metadata": {},
   "source": [
    "It is also possible to input coordinate values in other representations\n",
    "such as cartesian or cylindrical.  In this case one includes the keyword\n",
    "argument ``representation_type='cartesian'`` (for example) along with data\n",
    "in ``x``, ``y``, and ``z`` , we need to provide a distance though. this is very useful when dealing with 3D volume data. "
   ]
  },
  {
   "cell_type": "code",
   "execution_count": null,
   "id": "b999efb8",
   "metadata": {},
   "outputs": [],
   "source": [
    "coord3 = SkyCoord(0*u.deg, 0*u.deg,'100kpc', frame='galactic')\n",
    "print(coord3, coord3.cartesian, coord3.cylindrical, coord3.spherical) "
   ]
  },
  {
   "cell_type": "markdown",
   "id": "66297f78",
   "metadata": {},
   "source": [
    "## using constants and units "
   ]
  },
  {
   "cell_type": "code",
   "execution_count": null,
   "id": "51b5ca8d",
   "metadata": {},
   "outputs": [],
   "source": [
    "Tsun= 5000 *u.K \n",
    "print((const.k_B*Tsun).to(u.eV)) \n",
    "wavelength= 800 *u.um \n",
    "freq= (const.c/wavelength).to(u.THz)\n",
    "print(freq)"
   ]
  },
  {
   "cell_type": "markdown",
   "id": "7cb75e7e",
   "metadata": {},
   "source": [
    "## reading   data FITS format   \n",
    "Flexible Image Transport System (FITS) is an open standard defining a digital file format useful for storage, transmission and processing of data: formatted as multi-dimensional arrays (for example a 2D image), or tables. FITS is the most commonly used digital file format in astronomy. The FITS standard was designed specifically for astronomical data, and includes provisions such as describing photometric and spatial calibration information, together with image origin metadata.\n",
    "\n",
    "The FITS format was first standardized in 1981; it has evolved gradually since then, and the most recent version (4.0) was standardized in 2016. FITS was designed with an eye towards long-term archival storage, and the maxim once FITS, always FITS represents the requirement that developments to the format must be backward compatible.\n",
    "\n",
    "Image metadata is stored in a human-readable ASCII header. The information in this header is designed to calculate the byte offset of some information in the subsequent data unit to support direct access to the data cells. Each FITS file consists of one or more headers containing ASCII card images that carry keyword/value pairs, interleaved between data blocks. The keyword/value pairs provide information such as size, origin, coordinates, binary data format, free-form comments, history of the data, and anything else the creator desires: while many keywords are reserved for FITS use, the standard allows arbitrary use of the rest of the name-space.\n",
    "\n",
    "FITS is also often used to store non-image data, such as spectra, photon lists, data cubes, or structured data such as multi-table databases. A FITS file may contain several extensions, and each of these may contain a data object. For example, it is possible to store x-ray and infrared exposures in the same file.\n",
    "\n",
    "#### Download the Data Release 1 of Gaia \n",
    "\n",
    "we download  data from the 1st GAIA data release, these data encode parallaxes of tons of stars. \n"
   ]
  },
  {
   "cell_type": "code",
   "execution_count": null,
   "id": "66dd6f4f",
   "metadata": {},
   "outputs": [],
   "source": [
    "from astropy.io import fits ,ascii \n",
    "try : \n",
    "    hdu = fits.open( 'GaiaSource_000-000-000.fits')\n",
    "except FileNotFoundError:\n",
    "    !wget http://cdn.gea.esac.esa.int/Gaia/gdr1/gaia_source/fits/GaiaSource_000-000-000.fits \n",
    "    hdu = fits.open( 'GaiaSource_000-000-000.fits')\n",
    "        "
   ]
  },
  {
   "cell_type": "markdown",
   "id": "ffe50731",
   "metadata": {},
   "source": [
    "### FITS  headers \n",
    "Every Header Data Unit (HDU) normally has two components: header and data. In astropy these two components are accessed through the two attributes of the HDU, hdu.header and hdu.data.\n",
    "\n",
    "While an HDU may have empty data (i.e., the .data attribute is None), any HDU will always have a header.\n",
    "\n",
    "Usually the primary header looks like this : "
   ]
  },
  {
   "cell_type": "code",
   "execution_count": null,
   "id": "8f3304ab",
   "metadata": {},
   "outputs": [],
   "source": [
    "hdu[0].header, "
   ]
  },
  {
   "cell_type": "markdown",
   "id": "b5581670",
   "metadata": {},
   "source": [
    "the second header is the card encoding the astrophysical infos, the format of each columns,the units, the name ,etc... "
   ]
  },
  {
   "cell_type": "code",
   "execution_count": null,
   "id": "e099cb64",
   "metadata": {
    "scrolled": true
   },
   "outputs": [],
   "source": [
    "hdu[1].header"
   ]
  },
  {
   "cell_type": "markdown",
   "id": "28cf9cdb",
   "metadata": {},
   "source": [
    "Astropy provides utils to access the columns entity "
   ]
  },
  {
   "cell_type": "code",
   "execution_count": null,
   "id": "03a01a0f",
   "metadata": {
    "scrolled": true
   },
   "outputs": [],
   "source": [
    "hdu[1].columns "
   ]
  },
  {
   "cell_type": "code",
   "execution_count": null,
   "id": "0d5706e7",
   "metadata": {},
   "outputs": [],
   "source": [
    "hdu[1].columns['parallax']"
   ]
  },
  {
   "cell_type": "markdown",
   "id": "8b91d49a",
   "metadata": {},
   "source": [
    "whereas the data are accessible with"
   ]
  },
  {
   "cell_type": "code",
   "execution_count": null,
   "id": "df6ee24f",
   "metadata": {},
   "outputs": [],
   "source": [
    "hdu[1].data['parallax']"
   ]
  },
  {
   "cell_type": "markdown",
   "id": "f8bfd0c5",
   "metadata": {},
   "source": [
    "let's see what we can do with data... "
   ]
  },
  {
   "cell_type": "code",
   "execution_count": null,
   "id": "4a90e9c0",
   "metadata": {
    "scrolled": false
   },
   "outputs": [],
   "source": [
    "import numpy as np \n",
    "masknans =np.isnan(hdu[1].data['parallax'])\n",
    "gaia_parallaxes = hdu[1].data['parallax'][~masknans]\n",
    "min_para= gaia_parallaxes.min() \n",
    "max_para= gaia_parallaxes.max() \n",
    "pl.figure(figsize=(15,12))\n",
    "pl.subplot(221)\n",
    "_=pl.hist(gaia_parallaxes, bins= np.linspace((min_para), (max_para), 50 ), density=True) \n",
    "\n",
    "pl.xlim(0,20)\n",
    "pl.title( hdu[1].columns['parallax'].name ,  fontsize=15)\n",
    "pl.xlabel(f\"{hdu[1].columns['parallax'].unit}\", fontsize=12)\n",
    "pl.subplot(224)\n",
    "pl.title( hdu[1].columns['ra'].name ,  fontsize=15)\n",
    "pl.xlabel(f\"{hdu[1].columns['ra'].unit}\", fontsize=12)\n",
    "_=pl.hist(hdu[1].data['ra'][~masknans], bins=  30, density=True ) \n",
    "pl.subplot(223)\n",
    "pl.title( hdu[1].columns['dec'].name ,  fontsize=15)\n",
    "pl.xlabel(f\"{hdu[1].columns['dec'].unit}\", fontsize=12)\n",
    "_=pl.hist(hdu[1].data['dec'][~masknans], bins=  30, density=True ) \n",
    "pl.subplot(222)\n",
    "pl.title( hdu[1].columns['phot_g_mean_mag'].name ,  fontsize=15)\n",
    "pl.xlabel(f\"{hdu[1].columns['phot_g_mean_mag'].unit}\", fontsize=12)\n",
    "_=pl.hist(hdu[1].data['phot_g_mean_mag'][~masknans], bins=  30, density=True ) \n",
    "\n"
   ]
  },
  {
   "cell_type": "code",
   "execution_count": null,
   "id": "9932ad87",
   "metadata": {},
   "outputs": [],
   "source": [
    "ra_fits=hdu[1].data['ra'][~masknans].copy()\n",
    "dec_fits=hdu[1].data['dec'][~masknans].copy()\n",
    "hdu.close() "
   ]
  },
  {
   "cell_type": "markdown",
   "id": "b73a255f",
   "metadata": {},
   "source": [
    "always remember to close the HDU, otherwise the file remains open. \n",
    "\n",
    "\n",
    "## reading astropy table  \n",
    "Another format catalogs can be in is `.csv` or `.dat`, in general txt files. Astropy provides a way to read'em and easily access as they were `.fits`.  This is thanks to the [astropy.ascii.table](https://docs.astropy.org/en/stable/table/index.html#module-astropy.table)  \n",
    "\n",
    "### Gaia Radial Velocity Spectrometer\n",
    "\n",
    "\n",
    "We download the spectra obtained for several sources acquired with the RVS. \n",
    "https://gea.esac.esa.int/archive/documentation/GDR3/Gaia_archive/chap_datamodel/sec_dm_spectroscopic_tables/ssec_dm_rvs_mean_spectrum.html\n"
   ]
  },
  {
   "cell_type": "code",
   "execution_count": null,
   "id": "e2062577",
   "metadata": {},
   "outputs": [],
   "source": [
    "try :\n",
    "    table = ascii.read('RvsMeanSpectrum_000000-003111.csv.gz' ,format='ecsv' )\n",
    "except FileNotFoundError:\n",
    "    !wget http://cdn.gea.esac.esa.int/Gaia/gdr3/Spectroscopy/rvs_mean_spectrum/RvsMeanSpectrum_000000-003111.csv.gz\n",
    "    table = ascii.read('RvsMeanSpectrum_000000-003111.csv.gz' ,format='ecsv' )\n"
   ]
  },
  {
   "cell_type": "markdown",
   "id": "24450537",
   "metadata": {},
   "source": [
    "tables are as easy to handle as the fits files, "
   ]
  },
  {
   "cell_type": "code",
   "execution_count": null,
   "id": "bf1bae65",
   "metadata": {},
   "outputs": [],
   "source": [
    "table.colnames, table.columns "
   ]
  },
  {
   "cell_type": "markdown",
   "id": "b5bfff0b",
   "metadata": {},
   "source": [
    "the nicest feature is to print a table "
   ]
  },
  {
   "cell_type": "code",
   "execution_count": null,
   "id": "83036daf",
   "metadata": {
    "scrolled": true
   },
   "outputs": [],
   "source": [
    "table"
   ]
  },
  {
   "cell_type": "code",
   "execution_count": null,
   "id": "27a9f0c5",
   "metadata": {},
   "outputs": [],
   "source": [
    "nrows=table.as_array().shape[0] \n",
    "rvs_bins  = np.linspace(846,870, spectrum.size )"
   ]
  },
  {
   "cell_type": "code",
   "execution_count": null,
   "id": "9903a7fd",
   "metadata": {},
   "outputs": [],
   "source": [
    "pl.figure(figsize=(15,12))\n",
    "\n",
    "for i in range(nrows ):  \n",
    "    pl.subplot(2,4,i+1 )\n",
    "    spectrum =   np.float_(table['flux'][i][1:-1].split(',' )  ) \n",
    "    pl.title(f\"{table['ra'][i]:.2f},{ table['dec'][i]:.2f}\")\n",
    "    pl.plot(rvs_bins,  spectrum ,   )\n",
    "    if i==7: break \n"
   ]
  },
  {
   "cell_type": "code",
   "execution_count": null,
   "id": "b9d300ff",
   "metadata": {},
   "outputs": [],
   "source": [
    "\n",
    "ra_table= table['ra'] \n",
    "dec_table= table['dec'] \n",
    "\n",
    "coords_parallax = SkyCoord(ra=ra_fits *u.degree, dec=dec_fits*u.degree)\n",
    "coords_spectrum  = SkyCoord(ra=ra_table, dec=dec_table)\n",
    "#"
   ]
  },
  {
   "cell_type": "markdown",
   "id": "34865849",
   "metadata": {},
   "source": [
    "###  matching  two catalogs\n",
    "\n",
    "we match  sources in both catalogs  at about  the same position, so that the match results into sources whose we know parallax and spectrum. \n",
    "astropy has a routine that does this \n"
   ]
  },
  {
   "cell_type": "code",
   "execution_count": null,
   "id": "23790e32",
   "metadata": {},
   "outputs": [],
   "source": [
    "from astropy.coordinates import match_coordinates_sky\n",
    "match_coordinates_sky?"
   ]
  },
  {
   "cell_type": "code",
   "execution_count": null,
   "id": "d5192d81",
   "metadata": {},
   "outputs": [],
   "source": [
    "idx, d2d, _ = match_coordinates_sky(coords_parallax , coords_spectrum )"
   ]
  },
  {
   "cell_type": "code",
   "execution_count": null,
   "id": "560f0fff",
   "metadata": {},
   "outputs": [],
   "source": [
    "matchmask = d2d< .1*u.arcsec"
   ]
  },
  {
   "cell_type": "code",
   "execution_count": null,
   "id": "6470e3cf",
   "metadata": {},
   "outputs": [],
   "source": [
    "print(f\"we matched {coords_parallax[matchmask].size} stars! \") "
   ]
  },
  {
   "cell_type": "code",
   "execution_count": null,
   "id": "00ce15ce",
   "metadata": {},
   "outputs": [],
   "source": [
    "table[idx[matchmask]] "
   ]
  },
  {
   "cell_type": "markdown",
   "id": "836b8ef1",
   "metadata": {},
   "source": [
    "### write a table and save it \n",
    "\n",
    "let's save into disk a new table encoding only the matched sources, we want to include parallax too into this table.\n"
   ]
  },
  {
   "cell_type": "code",
   "execution_count": null,
   "id": "8e651855",
   "metadata": {},
   "outputs": [],
   "source": [
    "tab_match= table[idx[matchmask]]\n",
    "\n",
    "tab_match.add_column(gaia_parallaxes[matchmask] , name='parallax') \n",
    "\n",
    "ascii.write(table = tab_match ,names= tab_match.colnames, output=  f'matched_gaiadata.dat', overwrite=True )"
   ]
  },
  {
   "cell_type": "markdown",
   "id": "ecd6f1bb",
   "metadata": {},
   "source": [
    "##  Cosmology\n",
    "\n",
    "Another useful feature of Astropy is related to [cosmological calculations](https://docs.astropy.org/en/stable/cosmology/index.html).  \n",
    "The `astropy.cosmology` sub-package contains classes for representing cosmologies and utility functions for calculating commonly used quantities that depend on a cosmological model. This includes distances, ages, and lookback times corresponding to a measured redshift or the transverse separation corresponding to a measured angular separation.\n",
    "\n",
    "astropy.cosmology.units extends the astropy.units sub-package, adding and collecting cosmological units and equivalencies, like  for keeping track of (dimensionless) factors of the Hubble constant."
   ]
  },
  {
   "cell_type": "code",
   "execution_count": null,
   "id": "f2326141",
   "metadata": {},
   "outputs": [],
   "source": [
    "from astropy.cosmology import Planck18 as cosmo,z_at_value\n",
    "from astropy.cosmology import FlatLambdaCDM  \n",
    "cosmo2= FlatLambdaCDM(Ob0=0,Om0=1, H0=70)"
   ]
  },
  {
   "cell_type": "code",
   "execution_count": null,
   "id": "b567ea53",
   "metadata": {},
   "outputs": [],
   "source": [
    "z= np.logspace(-3, 2, 100)\n",
    "a=  cosmo.scale_factor(z)"
   ]
  },
  {
   "cell_type": "code",
   "execution_count": null,
   "id": "7312a578",
   "metadata": {},
   "outputs": [],
   "source": [
    "print(cosmo2.age(0),cosmo.age(0))"
   ]
  },
  {
   "cell_type": "code",
   "execution_count": null,
   "id": "8b197970",
   "metadata": {},
   "outputs": [],
   "source": [
    "pl.figure(figsize=(15,12))\n",
    "pl.subplot(221)\n",
    "pl.loglog(z, cosmo.age(z) , label='Age' ) \n",
    "pl.loglog(z, cosmo.lookback_time(z)  , label='Lookback time') \n",
    "pl.legend() \n",
    "pl.xlabel('redshift',fontsize=13)\n",
    "pl.ylabel(cosmo.age(z).unit,fontsize=13)\n",
    "\n",
    "pl.subplot(222)\n",
    "pl.loglog(z, cosmo.comoving_distance(z) , label='Comoving distance' ) \n",
    "pl.loglog(z, cosmo.luminosity_distance(z)  , label='Luminosity distance') \n",
    "pl.loglog(z, cosmo.angular_diameter_distance(z)  , label='Angular diameter distance') \n",
    "pl.loglog(z, cosmo.lookback_distance(z) , label=r'Lookback distance' ) \n",
    "pl.xlabel('redshift',fontsize=13)\n",
    "pl.ylabel(cosmo.comoving_distance(z).unit,fontsize=13)\n",
    "\n",
    "pl.legend(fontsize=13) \n",
    "pl.subplot(224)\n",
    "pl.loglog(z, cosmo.Ode(z) , label=r'$\\Omega_{\\Lambda}$' ) \n",
    "pl.loglog(z, cosmo.Ogamma(z) , label=r'$\\Omega_{r}$' ) \n",
    "pl.loglog(z, cosmo.Om(z)  , label=r'$\\Omega_{m}$') \n",
    "pl.loglog(z, cosmo.Ob(z)  , label=r'$\\Omega_{b}$') \n",
    "pl.legend(fontsize=13) \n",
    "pl.xlabel('redshift',fontsize=13)\n"
   ]
  },
  {
   "cell_type": "markdown",
   "id": "96d51728",
   "metadata": {},
   "source": [
    "if you know a cosmological quantity and you want to know the redshift which it corresponds to, you can use `z_at_value()`.\n",
    "\n"
   ]
  },
  {
   "cell_type": "code",
   "execution_count": null,
   "id": "85380a00",
   "metadata": {},
   "outputs": [],
   "source": [
    "print(f\"Redshift of M31 :{z_at_value(cosmo.luminosity_distance, 765*u.kpc) }\" ) \n",
    "print(f\"Redshift of an object in the Hubble flow :{z_at_value(cosmo.comoving_distance, cosmo.hubble_distance,) }\" ) "
   ]
  }
 ],
 "metadata": {
  "kernelspec": {
   "display_name": "Python 3",
   "language": "python",
   "name": "python3"
  },
  "language_info": {
   "codemirror_mode": {
    "name": "ipython",
    "version": 3
   },
   "file_extension": ".py",
   "mimetype": "text/x-python",
   "name": "python",
   "nbconvert_exporter": "python",
   "pygments_lexer": "ipython3",
   "version": "3.9.4"
  }
 },
 "nbformat": 4,
 "nbformat_minor": 5
}
